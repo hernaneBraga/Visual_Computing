{
 "cells": [
  {
   "cell_type": "markdown",
   "metadata": {
    "id": "YVjUpPUEEOFH",
    "toc": true
   },
   "source": [
    "<h1>Table of Contents<span class=\"tocSkip\"></span></h1>\n",
    "<div class=\"toc\"><ul class=\"toc-item\"><li><span><a href=\"#Project-resolution-steps\" data-toc-modified-id=\"Project-resolution-steps-1\"><span class=\"toc-item-num\">1&nbsp;&nbsp;</span>Project resolution steps</a></span></li><li><span><a href=\"#Loading-target-and-applying-rotations:--load_targets\" data-toc-modified-id=\"Loading-target-and-applying-rotations:--load_targets-2\"><span class=\"toc-item-num\">2&nbsp;&nbsp;</span>Loading target and applying rotations:  <code>load_targets</code></a></span></li><li><span><a href=\"#Pre-processing-video-frame:-binarize_frame\" data-toc-modified-id=\"Pre-processing-video-frame:-binarize_frame-3\"><span class=\"toc-item-num\">3&nbsp;&nbsp;</span>Pre-processing video frame: <code>binarize_frame</code></a></span></li><li><span><a href=\"#Detect-the-target-contours-at-the-scene:-get_contours\" data-toc-modified-id=\"Detect-the-target-contours-at-the-scene:-get_contours-4\"><span class=\"toc-item-num\">4&nbsp;&nbsp;</span>Detect the target contours at the scene: <code>get_contours</code></a></span></li><li><span><a href=\"#Perspective-transformation-in-detected-contours:-get_contour_perspective\" data-toc-modified-id=\"Perspective-transformation-in-detected-contours:-get_contour_perspective-5\"><span class=\"toc-item-num\">5&nbsp;&nbsp;</span>Perspective transformation in detected contours: <code>get_contour_perspective</code></a></span><ul class=\"toc-item\"><li><span><a href=\"#Storing-all-detected-images-in-a-dictionary-list:-get_detected_images\" data-toc-modified-id=\"Storing-all-detected-images-in-a-dictionary-list:-get_detected_images-5.1\"><span class=\"toc-item-num\">5.1&nbsp;&nbsp;</span>Storing all detected images in a dictionary list: <code>get_detected_images</code></a></span></li></ul></li><li><span><a href=\"#Cross-correlation-comparison-function:-correlation_coefficient\" data-toc-modified-id=\"Cross-correlation-comparison-function:-correlation_coefficient-6\"><span class=\"toc-item-num\">6&nbsp;&nbsp;</span>Cross correlation comparison function: <code>correlation_coefficient</code></a></span></li><li><span><a href=\"#Selects-images-that-are-most-similar-to-targets:-select_detected_images\" data-toc-modified-id=\"Selects-images-that-are-most-similar-to-targets:-select_detected_images-7\"><span class=\"toc-item-num\">7&nbsp;&nbsp;</span>Selects images that are most similar to targets: <code>select_detected_images</code></a></span></li><li><span><a href=\"#Adjusting-poses-for-object-projection.-change_img_pts_to_obj_orientation\" data-toc-modified-id=\"Adjusting-poses-for-object-projection.-change_img_pts_to_obj_orientation-8\"><span class=\"toc-item-num\">8&nbsp;&nbsp;</span>Adjusting poses for object projection. <code>change_img_pts_to_obj_orientation</code></a></span></li></ul></div>"
   ]
  },
  {
   "cell_type": "markdown",
   "metadata": {
    "id": "wE__aLGIEOFK"
   },
   "source": [
    "# Introduction to Computer Vision - UFMG\n",
    "\n",
    "- Hernane Braga Pereira - 2014112627"
   ]
  },
  {
   "cell_type": "markdown",
   "metadata": {
    "id": "6Cf4L3oREOFc"
   },
   "source": [
    "---\n",
    "# Problem statement\n",
    "\n",
    "The project goal is to detect all targets at the frame video and project a 3D Pikachu on each target. The image below shows an example.\n",
    "\n",
    "<center><img src=\"media/enunciado.PNG\" alt=\"parameters\" width=\"800\"/></center>\n",
    "\n",
    "---\n",
    "## Project resolution steps\n",
    "These were the steps toward the final solution:\n",
    "\n",
    "1. Camera calibration from video frames\n",
    "2. Creating functions to detect the targets at the scene\n",
    "3. Selecting the targets for rendering\n",
    "4. Render the 3D Pikachu on the target\n",
    "\n",
    "**Final result frame:**\n",
    "\n",
    "\n",
    "<br></br><center><img src=\"media/resultado_final.PNG\" alt=\"parameters\" width=\"800\"/></center>"
   ]
  },
  {
   "cell_type": "markdown",
   "metadata": {
    "id": "CILhD_zAEOFe"
   },
   "source": [
    "---\n",
    "# Camera calibration\n",
    "\n",
    "The first step to calibrate the camera using a chessboard as a target. The Jean-Yves Bouguet e Matlab/Octave toolbox was used to estimate the intrinsic parameters. Below we can see the estimated intrinsic parameters using 39 frames.\n",
    "\n",
    "<br>\n",
    "<center><img src=\"media/param_calibracao.PNG\" alt=\"parameters\" width=\"1600\"/></center>\n",
    "<table><tr><td><img src='media/camera-view.png' width=\"1200\"></td><td><img src='media/world-view.png' width=\"1200\"></td></tr></table>"
   ]
  },
  {
   "cell_type": "markdown",
   "metadata": {
    "hide_input": false,
    "id": "O8EzcUGZEOFM"
   },
   "source": [
    "---\n",
    "**Loading Libraries**\n"
   ]
  },
  {
   "cell_type": "code",
   "execution_count": 1,
   "metadata": {
    "id": "6-pWlRuxEOFO",
    "outputId": "0abf4155-d8c3-4161-89c2-74cc0743439b"
   },
   "outputs": [
    {
     "name": "stdout",
     "output_type": "stream",
     "text": [
      "pygame 1.9.6\n",
      "Hello from the pygame community. https://www.pygame.org/contribute.html\n"
     ]
    }
   ],
   "source": [
    "#!/usr/bin/python3\n",
    "\n",
    "import cv2\n",
    "\n",
    "import numpy as np\n",
    "from matplotlib import pyplot as plt\n",
    "\n",
    "from OpenGL.GL import *\n",
    "from OpenGL.GLUT import *\n",
    "from OpenGL.GLU import *\n",
    "\n",
    "from PIL import Image\n",
    "\n",
    "from objloader import *\n",
    "\n",
    "from datetime import datetime"
   ]
  },
  {
   "cell_type": "code",
   "execution_count": 2,
   "metadata": {
    "id": "abNdCA0CEOFf"
   },
   "outputs": [],
   "source": [
    "TARGET = './media/alvo.jpg'\n",
    "OBJECT = './media/Pikachu.obj'\n",
    "VIDEO_INPUT = './media/tp2-icv-input.mp4'\n",
    "\n",
    "cameraMatrix = np.array([[1194.30008, 0, 959.5],\n",
    "                         [0, 1193.33981, 539.5],\n",
    "                         [0, 0, 1]])"
   ]
  },
  {
   "cell_type": "markdown",
   "metadata": {
    "id": "lR0bQZNBEOFr"
   },
   "source": [
    "---\n",
    "# Object detection at the scene\n",
    "\n",
    "The Pikachu is placed at this target when it appears on the frame:\n",
    "\n",
    "<br> <center><img src=\"media/alvo.jpg\" alt=\"parameters\" width=\"180\"/></center>\n",
    "\n",
    "\n",
    "\n",
    "**Process steps:**\n",
    "1. Loading target function: `load_targets`\n",
    "2. Processing image input frame: `binarize_frame`\n",
    "\n",
    "\n",
    "\n"
   ]
  },
  {
   "cell_type": "markdown",
   "metadata": {
    "id": "u6ucsgTrEOFt"
   },
   "source": [
    "## Loading target and applying rotations:  `load_targets`\n",
    "\n",
    "Before the target be detected in the video, we need to load the target and apply the following pre-processing steps: binarize the image, and save a target rotation at 90°, 180°, and 270°.  Further, we'll compare the target at the scene with this rotation to get the object orientation.\n"
   ]
  },
  {
   "cell_type": "code",
   "execution_count": 3,
   "metadata": {
    "id": "0xw2SSteEOFu"
   },
   "outputs": [],
   "source": [
    "def load_targets(filename):\n",
    "    \"\"\" Receive target file name, apply binarization and return a list of targets with rotation: 0°, 90°, 180° and 270°\n",
    "    \"\"\"\n",
    "    # Reading and applyng binarization \n",
    "    target = cv2.imread(filename)\n",
    "    target = cv2.cvtColor(target, cv2.COLOR_BGR2GRAY)\n",
    "    #target = cv2.bilateralFilter(target, 11, 17, 17)\n",
    "    ret, target = cv2.threshold(target, 127, 255, cv2.THRESH_BINARY+cv2.THRESH_OTSU)\n",
    "\n",
    "    targets_list = []\n",
    "    \n",
    "    # Applyng rotation\n",
    "    for angle in [0, 270, 180, 90]:\n",
    "        M = cv2.getRotationMatrix2D((target.shape[1]/2, target.shape[0]/2), angle, 1)\n",
    "        targets_list.append(cv2.warpAffine(target, M, (target.shape[0], target.shape[1])))\n",
    "                         \n",
    "    return np.array(targets_list)"
   ]
  },
  {
   "cell_type": "code",
   "execution_count": 4,
   "metadata": {
    "id": "twLOwVG5EOF3",
    "outputId": "b64b3823-03f9-4fe8-9a59-398ea61be2ae"
   },
   "outputs": [
    {
     "data": {
      "image/png": "[encoded data removed]",
      "text/plain": [
       "<Figure size 1080x288 with 4 Axes>"
      ]
     },
     "metadata": {
      "needs_background": "light"
     },
     "output_type": "display_data"
    }
   ],
   "source": [
    "targets_list = load_targets(TARGET)\n",
    "\n",
    "plt.subplots(1,4, figsize=(15,4))\n",
    "plot_idx = 140\n",
    "\n",
    "for i, target in enumerate(targets_list):\n",
    "    plot_idx +=1\n",
    "    rotation = 90 * i\n",
    "    plt.subplot(str(plot_idx))\n",
    "    plt.title(str(rotation)+'°'), plt.axis('off')\n",
    "    plt.imshow(target, cmap='gray')"
   ]
  },
  {
   "cell_type": "markdown",
   "metadata": {
    "id": "uKw4_dmPEOGD"
   },
   "source": [
    "---\n",
    "## Pre-processing video frame: `binarize_frame`\n",
    "\n",
    "For getting a better detection at the scene, are applied the following steps at the video frame:\n",
    "\n",
    "1. Grayscale the image\n",
    "2. Apply a filter\n",
    "3. Binarize the image (only black and white pixels)\n",
    "4. Detect image edges\n",
    "\n",
    "The `binarize_frame` function performs these first three steps.\n",
    "\n",
    "**Below are intermediate images of this image treatment pipeline.**"
   ]
  },
  {
   "cell_type": "code",
   "execution_count": 5,
   "metadata": {
    "id": "rbAHH9plEOGG",
    "outputId": "46dddf45-7131-42cf-fffc-8e51c00ed137"
   },
   "outputs": [
    {
     "data": {
      "image/png": "[encoded data removed]",
      "text/plain": [
       "<Figure size 1080x576 with 4 Axes>"
      ]
     },
     "metadata": {
      "needs_background": "light"
     },
     "output_type": "display_data"
    }
   ],
   "source": [
    "img_org = cv2.imread('media/img_cena_1.jpg', cv2.IMREAD_GRAYSCALE)\n",
    "gray = cv2.bilateralFilter(img_org, 11, 17, 17)\n",
    "\n",
    "\n",
    "# Converting image to a binary image \n",
    "_, threshold = cv2.threshold(gray, 127, 255, cv2.THRESH_BINARY) \n",
    "edged = cv2.Canny(threshold, 30, 200)\n",
    "\n",
    "plt.subplots(figsize=(15, 8))\n",
    "plt.subplot(141), plt.imshow(img_org, cmap='gray'), plt.title('Grayscale image')\n",
    "plt.subplot(142), plt.imshow(gray, cmap='gray'), plt.title('Filtered image')\n",
    "plt.subplot(143), plt.imshow(threshold, cmap='gray'), plt.title('Binary image')\n",
    "plt.subplot(144), plt.imshow(edged, cmap='gray'), plt.title('Canny image')\n",
    "\n",
    "plt.show()"
   ]
  },
  {
   "cell_type": "code",
   "execution_count": 6,
   "metadata": {
    "id": "L42m3UnoEOGa"
   },
   "outputs": [],
   "source": [
    "def binarize_frame(frame):\n",
    "    \"\"\"\n",
    "        Binarize video frame\n",
    "        \n",
    "        Parameters\n",
    "        ----------\n",
    "        frame : numpy.ndarray\n",
    "            Video frame\n",
    "            \n",
    "        Return\n",
    "        -------\n",
    "        numpy.ndarray\n",
    "            Returns video frame binarized\n",
    "    \"\"\"\n",
    "    img = cv2.cvtColor(frame, cv2.COLOR_BGR2GRAY)\n",
    "    gray = cv2.bilateralFilter(img, 11, 17, 17)\n",
    "    _, threshold = cv2.threshold(gray, 127, 255, cv2.THRESH_BINARY) \n",
    "    return threshold"
   ]
  },
  {
   "cell_type": "code",
   "execution_count": 7,
   "metadata": {
    "id": "jAgtAzOdEOGj",
    "outputId": "80d1b954-2973-4960-9fe5-b05626a2d6a0"
   },
   "outputs": [
    {
     "data": {
      "image/png": "[encoded data removed]",
      "text/plain": [
       "<Figure size 432x288 with 1 Axes>"
      ]
     },
     "metadata": {
      "needs_background": "light"
     },
     "output_type": "display_data"
    }
   ],
   "source": [
    "frame = cv2.imread('media/img_cena_1.jpg')\n",
    "bin_img = binarize_frame(frame)\n",
    "plt.title('binarize_frame output')\n",
    "plt.imshow(bin_img, cmap='gray')\n",
    "plt.show()"
   ]
  },
  {
   "cell_type": "markdown",
   "metadata": {
    "id": "JFvkQ-_iEOGs"
   },
   "source": [
    "---\n",
    "## Detect the target contours at the scene: `get_contours`\n",
    "\n",
    "From the binarized image, a transformation to detect edges is applied. If four dots that formes a rectangle are found, then the perimeter is calculated. If it's compared to a delimited threshold, then the dots are a candidate to form the edge of a target. "
   ]
  },
  {
   "cell_type": "code",
   "execution_count": 8,
   "metadata": {
    "id": "6elInGavEOGu"
   },
   "outputs": [],
   "source": [
    "def grab_contours(cnts):\n",
    "    # support function\n",
    "    # source: https://github.com/jrosebr1/imutils/blob/5aae9887df3dcada5f8d8fa6af0df2122ad7aaca/imutils/convenience.py\n",
    "    # if the length the contours tuple returned by cv2.findContours\n",
    "    # is '2' then we are using either OpenCV v2.4, v4-beta, or\n",
    "    # v4-official\n",
    "    if len(cnts) == 2:\n",
    "        cnts = cnts[0]\n",
    "\n",
    "    # if the length of the contours tuple is '3' then we are using\n",
    "    # either OpenCV v3, v4-pre, or v4-alpha\n",
    "    elif len(cnts) == 3:\n",
    "        cnts = cnts[1]\n",
    "\n",
    "    # otherwise OpenCV has changed their cv2.findContours return\n",
    "    # signature yet again and I have no idea WTH is going on\n",
    "    else:\n",
    "        raise Exception((\"Contours tuple must have length 2 or 3, \"\n",
    "            \"otherwise OpenCV changed their cv2.findContours return \"\n",
    "            \"signature yet again. Refer to OpenCV's documentation \"\n",
    "            \"in that case\"))\n",
    "\n",
    "    # return the actual contours array\n",
    "    return cnts"
   ]
  },
  {
   "cell_type": "code",
   "execution_count": 9,
   "metadata": {
    "id": "vVqXWOSaEOG1"
   },
   "outputs": [],
   "source": [
    "def get_contours(bin_img, contour_threshold_perct=0.015):\n",
    "    \"\"\"\n",
    "        Get list of possible contours containing targets on a binary image\n",
    "        \n",
    "        Parameters\n",
    "        ----------\n",
    "        bin_img : numpy.ndarray\n",
    "            Video frame binarized\n",
    "            \n",
    "        contour_threshold_perct: int\n",
    "            percentual of approximation allowed\n",
    "            \n",
    "        Return\n",
    "        -------\n",
    "        list\n",
    "            Returns list of possible target contours\n",
    "    \"\"\"    \n",
    "    # Get edges\n",
    "    edged = cv2.Canny(bin_img, 30, 200)\n",
    "    \n",
    "    cnts = cv2.findContours(edged.copy(), cv2.RETR_TREE, cv2.CHAIN_APPROX_SIMPLE)[-2:]\n",
    "    cnts = grab_contours(cnts)\n",
    "    cnts = sorted(cnts, key = cv2.contourArea, reverse = True)[:10]\n",
    "    screenCnt = None\n",
    "    \n",
    "    # loop over our contours\n",
    "    total_found = []\n",
    "    for c in cnts:\n",
    "        # approximate the contour\n",
    "        peri = cv2.arcLength(c, True)\n",
    "        contour_threshold = peri*contour_threshold_perct\n",
    "        approx = cv2.approxPolyDP(c, contour_threshold, True)\n",
    "        \n",
    "        # if our approximated contour has four points, then we can assume that we have found our screen\n",
    "        if len(approx) == 4:\n",
    "            screenCnt = approx\n",
    "            total_found.append(screenCnt)\n",
    "            \n",
    "    return total_found"
   ]
  },
  {
   "cell_type": "code",
   "execution_count": 10,
   "metadata": {
    "id": "aiseiXjIEOG9",
    "outputId": "9d5d8720-5c93-4b83-c816-e6af8d9852c9"
   },
   "outputs": [
    {
     "data": {
      "image/png": "[encoded data removed]",
      "text/plain": [
       "<Figure size 720x576 with 1 Axes>"
      ]
     },
     "metadata": {
      "needs_background": "light"
     },
     "output_type": "display_data"
    }
   ],
   "source": [
    "total_contours = get_contours(bin_img)\n",
    "\n",
    "# Plot contours\n",
    "contour_image = frame.copy()\n",
    "\n",
    "cv2.drawContours(contour_image, total_contours, -1, (255, 255, 0), 4)\n",
    "\n",
    "plt.subplots(figsize=(10,8))\n",
    "plt.imshow(contour_image, cmap='gray'), plt.title('Contours detected by get_contours')\n",
    "plt.show()"
   ]
  },
  {
   "cell_type": "markdown",
   "metadata": {
    "id": "Mw3UYtzBEOHF"
   },
   "source": [
    "---\n",
    "## Perspective transformation in detected contours: `get_contour_perspective`\n",
    "\n",
    "Perspective transformation is applied to the detected contours. The `get_contour_perspective` function returns a dictionary with the contour image in perspective and the original image's points. The points are returned corresponding to the following points in the perspective image:\n",
    "\n",
    "1. top left\n",
    "2. top rigth\n",
    "3. bot rigth\n",
    "4. bot left"
   ]
  },
  {
   "cell_type": "code",
   "execution_count": 11,
   "metadata": {
    "id": "IAnQRu2zEOHH"
   },
   "outputs": [],
   "source": [
    "def get_contour_perspective(screenCnt, bin_img):\n",
    "    \"\"\"\n",
    "        Get contours points, apply perspective transformation and binarization\n",
    "        \n",
    "        Parameters\n",
    "        ----------\n",
    "        screenCnt : numpy.ndarray\n",
    "            scene contour points\n",
    "            \n",
    "        bin_img : numpy.ndarray\n",
    "            Video frame binarized\n",
    "            \n",
    "        Return\n",
    "        -------\n",
    "        dictionary\n",
    "            Returns the perspective transformation of image contours binarized, rotation matrix and original image points \n",
    "    \"\"\"    \n",
    "    # adapted from this great tutorial: https://www.pyimagesearch.com/2014/04/21/building-pokedex-python-finding-game-boy-screen-step-4-6/\n",
    "    orig = bin_img\n",
    "    pts = screenCnt.reshape(4, 2)\n",
    "    rect = np.zeros((4, 2), dtype = \"float32\")\n",
    "    \n",
    "    \n",
    "    # the top-left point has the smallest sum whereas the\n",
    "    # bottom-right has the largest sum\n",
    "    s = pts.sum(axis = 1)\n",
    "    rect[0] = pts[np.argmin(s)]\n",
    "    rect[2] = pts[np.argmax(s)]\n",
    "\n",
    "    diff = np.diff(pts, axis = 1)\n",
    "    rect[1] = pts[np.argmin(diff)]\n",
    "    rect[3] = pts[np.argmax(diff)]\n",
    "\n",
    "    \n",
    "    # now that we have our rectangle of points, let's compute\n",
    "    # the width of our new image\n",
    "    (tl, tr, br, bl) = rect\n",
    "    widthA = np.sqrt(((br[0] - bl[0]) ** 2) + ((br[1] - bl[1]) ** 2))\n",
    "    widthB = np.sqrt(((tr[0] - tl[0]) ** 2) + ((tr[1] - tl[1]) ** 2))\n",
    "\n",
    "\n",
    "    # ...and now for the height of our new image\n",
    "    heightA = np.sqrt(((tr[0] - br[0]) ** 2) + ((tr[1] - br[1]) ** 2))\n",
    "    heightB = np.sqrt(((tl[0] - bl[0]) ** 2) + ((tl[1] - bl[1]) ** 2))\n",
    "\n",
    "\n",
    "    # take the maximum of the width and height values to reach\n",
    "    # our final dimensions\n",
    "    maxWidth = max(int(widthA), int(widthB))\n",
    "    maxHeight = max(int(heightA), int(heightB))\n",
    "\n",
    "\n",
    "    # construct our destination points which will be used to\n",
    "    # map the screen to a top-down, \"birds eye\" view\n",
    "    dst = np.array([\n",
    "        [0, 0],\n",
    "        [maxWidth - 1, 0],\n",
    "        [maxWidth - 1, maxHeight - 1],\n",
    "        [0, maxHeight - 1]], dtype = \"float32\")\n",
    "\n",
    "    # calculate the perspective transform matrix and warp\n",
    "    # the perspective to grab the screen\n",
    "    \n",
    "    M = cv2.getPerspectiveTransform(rect, dst)\n",
    "    warped = cv2.warpPerspective(orig, M, (maxWidth, maxHeight))\n",
    "    ret, warped_bin = cv2.threshold(warped, 127, 255, cv2.THRESH_BINARY+cv2.THRESH_OTSU)\n",
    "\n",
    "    \n",
    "    detection_dict = { \"warped_bin_img\": warped_bin,\n",
    "                       \"perspective_M\": M,\n",
    "                       \"pts_img\": rect,\n",
    "                       \"angle\": 0\n",
    "                      } \n",
    "    \n",
    "    return detection_dict "
   ]
  },
  {
   "cell_type": "markdown",
   "metadata": {
    "id": "_Ksv_gp_EOHO"
   },
   "source": [
    "\n",
    "**Function output: `get_contour_perspective`**\n"
   ]
  },
  {
   "cell_type": "code",
   "execution_count": 12,
   "metadata": {
    "id": "pCurgvfIEOHQ",
    "outputId": "0c17baa8-4be4-40d5-c355-eda16e06e987"
   },
   "outputs": [
    {
     "data": {
      "image/png": "[encoded data removed]",
      "text/plain": [
       "<Figure size 1080x576 with 2 Axes>"
      ]
     },
     "metadata": {
      "needs_background": "light"
     },
     "output_type": "display_data"
    }
   ],
   "source": [
    "screenCnt = total_contours[0]\n",
    "detection_dict = get_contour_perspective(screenCnt, bin_img)\n",
    "\n",
    "pts, M, warped = detection_dict['pts_img'], detection_dict['perspective_M'], detection_dict['warped_bin_img']\n",
    "\n",
    "plt.subplots(1, 2,figsize=(15,8))\n",
    "\n",
    "plt.subplot(121), plt.title('Points on image')\n",
    "plt.imshow(bin_img, cmap='gray')\n",
    "for i, pt in enumerate(pts):\n",
    "    plt.plot(pt[0], pt[1], 'ro')\n",
    "\n",
    "plt.subplot(122), plt.title('Warped image')\n",
    "plt.imshow(warped, cmap='gray')\n",
    "plt.show()"
   ]
  },
  {
   "cell_type": "markdown",
   "metadata": {
    "id": "2LwsHp38EOHY"
   },
   "source": [
    "### Storing all detected images in a dictionary list: `get_detected_images`\n",
    "\n",
    "To compare all images, they are saved in a list"
   ]
  },
  {
   "cell_type": "code",
   "execution_count": 13,
   "metadata": {
    "id": "1wB3QAJ7EOHZ"
   },
   "outputs": [],
   "source": [
    "def get_detected_images(total_contours, bin_img):\n",
    "    \"\"\"\n",
    "        Get list of detected contours and binarized frame and return a list of dictionaries containing:\n",
    "        - original points on image, perspective matrix and warped binarized image\n",
    "    \"\"\"\n",
    "    lst_detected_contours = []\n",
    "    for i, screenCnt in enumerate(total_contours):\n",
    "        detection_dict = get_contour_perspective(screenCnt, bin_img)\n",
    "        lst_detected_contours.append(detection_dict)\n",
    "    \n",
    "    return lst_detected_contours"
   ]
  },
  {
   "cell_type": "code",
   "execution_count": 14,
   "metadata": {
    "id": "ijog_Gd8EOHi"
   },
   "outputs": [],
   "source": [
    "lst_detected_contours = get_detected_images(total_contours, bin_img)"
   ]
  },
  {
   "cell_type": "markdown",
   "metadata": {
    "id": "2DKrehvAEOHp"
   },
   "source": [
    "---\n",
    "# Selection of targets to be rendered\n",
    "## Cross correlation comparison function: `correlation_coefficient`\n",
    "\n",
    "Compare from 0 to 1, which images are similar, where 0 is the minimum, and 1 is the maximum."
   ]
  },
  {
   "cell_type": "code",
   "execution_count": 15,
   "metadata": {
    "id": "I3Wzs0yjEOHr"
   },
   "outputs": [],
   "source": [
    "def correlation_coefficient(patch1, patch2):\n",
    "\n",
    "    product = np.mean((patch1 - patch1.mean()) * (patch2 - patch2.mean()))\n",
    "    stds = patch1.std() * patch2.std()\n",
    "    if stds == 0:\n",
    "        return 0\n",
    "    else:\n",
    "        product /= stds\n",
    "        return product"
   ]
  },
  {
   "cell_type": "markdown",
   "metadata": {
    "id": "2_7TB2E7EOHz"
   },
   "source": [
    "Comparing the warped images with the other targets. Before comparison, the images are adjusted to have the same format."
   ]
  },
  {
   "cell_type": "code",
   "execution_count": 16,
   "metadata": {
    "id": "ymCQRRvhEOH1",
    "outputId": "2e95c79b-9cfa-4cac-ccde-a92d2507eed5"
   },
   "outputs": [
    {
     "data": {
      "image/png": "[encoded data removed]",
      "text/plain": [
       "<Figure size 1080x576 with 4 Axes>"
      ]
     },
     "metadata": {
      "needs_background": "light"
     },
     "output_type": "display_data"
    }
   ],
   "source": [
    "img1 = warped\n",
    "\n",
    "plt.subplots(1,4,figsize=(15,8))\n",
    "idx = 141\n",
    "\n",
    "for target in targets_list:\n",
    "    dsize = (img1.shape[1], img1.shape[0])\n",
    "    img2 = cv2.resize(target, dsize)\n",
    "    dist = correlation_coefficient(img1, img2)\n",
    "    plt.subplot(str(idx))\n",
    "    plt.title('similarity: '+ str(round(dist,3))), plt.imshow(target, cmap='gray')\n",
    "    idx+=1"
   ]
  },
  {
   "cell_type": "markdown",
   "metadata": {
    "id": "ZRwdv-JTEOH8"
   },
   "source": [
    "---\n",
    "##  Selects images that are most similar to targets: `select_detected_images`\n",
    "\n",
    "The function `select_detected_images` receives the list containing the dictionaries of the images located in the scene. These images are compared with all four possible orientations of the target using the similarity function. Pictures with a similarity score greater than 0.55 are selected.\n",
    "\n",
    "If more than three images are chosen to render the object, there is a chance that the same contour was selected, but with small points of difference. For this, the function `select_image_based_on_similarity` selects the target with the greatest similarity\n"
   ]
  },
  {
   "cell_type": "code",
   "execution_count": 17,
   "metadata": {
    "id": "5UYv8C9nEOH9"
   },
   "outputs": [],
   "source": [
    "def select_image_based_on_similarity(similarity_matrix):\n",
    "    \"\"\" Remove copied detected frames based on similarity \"\"\"\n",
    "    selected_images = []\n",
    "    for j in np.arange(similarity_matrix.shape[1]):\n",
    "        index_lst, similarity_lst = [], []\n",
    "        \n",
    "        for i in np.arange(similarity_matrix.shape[0]):\n",
    "            similarity = similarity_matrix[i, j]\n",
    "            if(similarity > 0):\n",
    "                index_lst.append(i)\n",
    "                similarity_lst.append(similarity)\n",
    "                \n",
    "        # Compare 2 by 2 similarity and choose the best\n",
    "        if(len(similarity_lst) > 1):\n",
    "            for z in range(0, len(similarity_lst), 2):\n",
    "                a = similarity_lst[z]\n",
    "                b = similarity_lst[z+1]\n",
    "\n",
    "                if(a >= b): selected_images.append(index_lst[z])\n",
    "                else: selected_images.append(index_lst[z+1])    \n",
    "    \n",
    "    selected_images.sort()\n",
    "    return selected_images"
   ]
  },
  {
   "cell_type": "code",
   "execution_count": 18,
   "metadata": {
    "id": "bKCyvo_AEOIE"
   },
   "outputs": [],
   "source": [
    "def select_detected_images(lst_detected_contours, targets_list, threshold=0.55):\n",
    "    \"\"\"Receive list of dictionary images and target list. Return selected images for the 3 targets\"\"\"\n",
    "    similarity_matrix = np.empty((len(lst_detected_contours), 4))\n",
    "\n",
    "    # Calculating similarity matrix\n",
    "    for i, item in enumerate(lst_detected_contours):\n",
    "        warped_img = item['warped_bin_img']\n",
    "        for j, target in enumerate(targets_list):\n",
    "            shape = target.shape\n",
    "            dsize = (shape[1], shape[0])   \n",
    "            warped_reshaped = cv2.resize(warped_img, dsize)\n",
    "            similarity_matrix[i,j] = correlation_coefficient(warped_reshaped, target)  \n",
    "            if (similarity_matrix[i,j] < threshold): similarity_matrix[i,j] = 0\n",
    "        \n",
    "        # Give rotation to image based on max similarity\n",
    "        rotation = np.argmax(similarity_matrix[i,:]) *90\n",
    "        item['angle'] = rotation\n",
    "    \n",
    "\n",
    "    # Distinguisinh copied images based on similarity\n",
    "    selected_images_idx = select_image_based_on_similarity(similarity_matrix)\n",
    "\n",
    "    # Selecting final images\n",
    "    selected_images = []\n",
    "    aux = 0\n",
    "    for i, dict_img in enumerate(lst_detected_contours):\n",
    "        if(aux == len(selected_images_idx)): break\n",
    "        if(i == selected_images_idx[aux]):\n",
    "            aux+=1\n",
    "            selected_images.append(dict_img)\n",
    "            \n",
    "    return selected_images"
   ]
  },
  {
   "cell_type": "code",
   "execution_count": 19,
   "metadata": {
    "id": "_Ug9Vs9fEOIK"
   },
   "outputs": [],
   "source": [
    "selected_images = select_detected_images(lst_detected_contours, targets_list)"
   ]
  },
  {
   "cell_type": "markdown",
   "metadata": {
    "id": "XIoZPL22EOIR"
   },
   "source": [
    "The images with the points below are selected in the end: "
   ]
  },
  {
   "cell_type": "code",
   "execution_count": 20,
   "metadata": {
    "id": "klbi6_i8EOIS",
    "outputId": "cee6e8e8-b279-40c5-b448-289300b61933"
   },
   "outputs": [
    {
     "data": {
      "image/png": "[encoded data removed]",
      "text/plain": [
       "<Figure size 720x432 with 1 Axes>"
      ]
     },
     "metadata": {
      "needs_background": "light"
     },
     "output_type": "display_data"
    }
   ],
   "source": [
    "plt.subplots(1, 1,figsize=(10,6))\n",
    "\n",
    "pt1, pt2, pt3 = selected_images[0]['pts_img'], selected_images[1]['pts_img'], selected_images[2]['pts_img']\n",
    "\n",
    "plt.title('Points on image')\n",
    "\n",
    "plt.imshow(bin_img, cmap='gray')\n",
    "for i, pt in enumerate(pt1): plt.plot(pt[0], pt[1], 'ro')\n",
    "for i, pt in enumerate(pt2): plt.plot(pt[0], pt[1], 'go')\n",
    "for i, pt in enumerate(pt3): plt.plot(pt[0], pt[1], 'bo')"
   ]
  },
  {
   "cell_type": "markdown",
   "metadata": {
    "id": "BQ286jEGEOIZ"
   },
   "source": [
    "---\n",
    "## Adjusting poses for object projection. `change_img_pts_to_obj_orientation`\n",
    "Finally, a function is defined to map the selected 2D points for the orientation of the 3D object by OpenGL\n",
    "\n",
    "\n",
    "**Order of points in the scene:**\n",
    "0. top left\n",
    "2. top rigth\n",
    "3. bot rigth\n",
    "4. bot left\n",
    "\n",
    "\n",
    "**Order of points of the 3D object:**\n",
    "0. bot left\n",
    "2. bot rigth\n",
    "3. top rigth\n",
    "4. top left"
   ]
  },
  {
   "cell_type": "code",
   "execution_count": 21,
   "metadata": {
    "id": "ZxBDkRJGEOIa"
   },
   "outputs": [],
   "source": [
    "def change_img_pts_to_obj_orientation(imagePoints):\n",
    "    new_image_pts = imagePoints.copy()\n",
    "    new_image_pts[0,:] = imagePoints[3,:] # top left   --->  bot left\n",
    "    new_image_pts[1,:] = imagePoints[2,:] # top rigth  --->  bot rigth\n",
    "    new_image_pts[2,:] = imagePoints[1,:] # bot rigth  --->  top rigth\n",
    "    new_image_pts[3,:] = imagePoints[0,:] # bot left   --->  top left\n",
    "    \n",
    "    return new_image_pts.astype(float)"
   ]
  },
  {
   "cell_type": "code",
   "execution_count": 22,
   "metadata": {
    "id": "eonNuMNnEOIj",
    "outputId": "92c7745c-1761-4d5b-ceb6-7206dab5fdab"
   },
   "outputs": [
    {
     "name": "stdout",
     "output_type": "stream",
     "text": [
      "Original image points:\n",
      " [[1254.  656.]\n",
      " [1385.  752.]\n",
      " [1300.  869.]\n",
      " [1168.  765.]]\n",
      "\n",
      "Image points on object orientation:\n",
      " [[1168.  765.]\n",
      " [1300.  869.]\n",
      " [1385.  752.]\n",
      " [1254.  656.]]\n"
     ]
    }
   ],
   "source": [
    "old_imagePoints = selected_images[0]['pts_img']\n",
    "imagePoints = change_img_pts_to_obj_orientation(old_imagePoints)\n",
    "print('Original image points:\\n', old_imagePoints)\n",
    "print('\\nImage points on object orientation:\\n', imagePoints)"
   ]
  },
  {
   "cell_type": "markdown",
   "metadata": {
    "id": "DHj1PseMEOIs"
   },
   "source": [
    "---\n",
    "# Rendering 3D object in the video\n",
    "\n",
    "\n",
    "Below the OpenGL functions are performed to render the Pikachu in the video. Essential details: the video is in 1920x1080 resolution. For some reason, still unknown, I was unable to adjust the texture for a smaller openCV window, so the OpenCV window is also in 1920x1080. I tried to load the video frames in a lower resolution to change this problem, but it was still impossible to render correctly in a smaller window.\n",
    "\n",
    "Another part to be commented on the resolution is that apparently, the window causes the top target to have the Pikachu appearing intermittently. I believe that the target would be rendered correctly with the smaller texture window since it was detected correctly during the video.\n",
    "\n",
    "When executing the cells below, the OpenGL window will be opened together with the video showing the detected outlines."
   ]
  },
  {
   "cell_type": "code",
   "execution_count": 23,
   "metadata": {
    "id": "Ous7DGzQEOIt"
   },
   "outputs": [],
   "source": [
    "def object3D(imagePoints, angle, cameraMatrix, distCoeffs, obj):\n",
    "   \n",
    "    objectPoints = np.array([[-1, -1, 1],  \n",
    "                             [ 1, -1, 1],\n",
    "                             [ 1, 1, 1], \n",
    "                             [-1, 1, 1]], dtype=\"float32\")\n",
    "    \n",
    "    _, rvecs, tvecs = cv2.solvePnP(objectPoints, imagePoints, cameraMatrix, distCoeffs)\n",
    "    \n",
    "    rotm = cv2.Rodrigues(rvecs)[0]\n",
    "    \n",
    "    m = np.array([[rotm[0][0], rotm[0][1], rotm[0][2], tvecs[0]], \n",
    "                  [rotm[1][0], rotm[1][1], rotm[1][2], tvecs[1]], \n",
    "                  [rotm[2][0], rotm[2][1], rotm[2][2], tvecs[2]],\n",
    "                  [       0.0,        0.0,        0.0,      1.0]])\n",
    "\n",
    "    \n",
    "    ##opencv coordinate system to opengl coordinate system\n",
    "    flip_y_and_z_axis = np.array([[1, 0,  0, 0],\n",
    "                                  [0, -1,  0, 0],\n",
    "                                  [0, 0, -1, 0],\n",
    "                                  [0, 0,  0, 1]])\n",
    "    \n",
    "    \n",
    "    m = np.dot(flip_y_and_z_axis, m)\n",
    "    m = np.transpose(m)\n",
    "    glLoadMatrixd(m)\n",
    "\n",
    "    #glutSolidCube(2.0)  show cube\n",
    "    \n",
    "    glRotate(90, 1, 0, 0)\n",
    "    glRotate(180, 0, 1, 1)\n",
    "    \n",
    "    \n",
    "    glCallList(obj.gl_list) # pikachuuuu"
   ]
  },
  {
   "cell_type": "code",
   "execution_count": 24,
   "metadata": {
    "hide_input": true,
    "id": "18e1Lkc-EOIz"
   },
   "outputs": [],
   "source": [
    "def idleCallback():\n",
    "    \"\"\"\n",
    "    Callback do glut\n",
    "    \"\"\"\n",
    "    \n",
    "    glutPostRedisplay()"
   ]
  },
  {
   "cell_type": "code",
   "execution_count": 25,
   "metadata": {
    "id": "rCe4HtqcEOI6"
   },
   "outputs": [],
   "source": [
    "def displayCallback():\n",
    "    \"\"\"\n",
    "    Callback do glut.\n",
    "    \"\"\"\n",
    "\n",
    "    glClear(GL_COLOR_BUFFER_BIT | GL_DEPTH_BUFFER_BIT)\n",
    "    glLoadIdentity()\n",
    "\n",
    "    ret, frame_oginal = cap.read()\n",
    "    targets_list = load_targets(TARGET) # Loading target with different positions\n",
    "    \n",
    "    frame = frame_oginal \n",
    "    \n",
    "    if ret == True:\n",
    "\n",
    "        background = cv2.cvtColor(frame, cv2.COLOR_BGR2RGB)\n",
    "        background = cv2.flip(background, 0)\n",
    "        \n",
    "        height, width, channels = background.shape \n",
    "        background = np.frombuffer(background.tostring(), dtype=background.dtype, count=height * width * channels)\n",
    "        \n",
    "        background.shape = (height, width, channels)\n",
    "\n",
    "        glEnable(GL_TEXTURE_2D)\n",
    "        glBindTexture(GL_TEXTURE_2D, background_id)\n",
    "\n",
    "        glTexParameteri(GL_TEXTURE_2D, GL_TEXTURE_MIN_FILTER, GL_NEAREST)\n",
    "        \n",
    "        glTexImage2D(GL_TEXTURE_2D, 0, 3, width, height, 0, GL_RGB, GL_UNSIGNED_BYTE, background)\n",
    "        glDepthMask(GL_FALSE)\n",
    "\n",
    "        glMatrixMode(GL_PROJECTION)\n",
    "        glPushMatrix()\n",
    "        glLoadIdentity()\n",
    "        gluOrtho2D(0, width, 0, height)\n",
    "\n",
    "        glMatrixMode(GL_MODELVIEW)\n",
    "\n",
    "\n",
    "        glPushMatrix()\n",
    "        glBegin(GL_QUADS)\n",
    "        glTexCoord2i(0, 0); glVertex2i(0, 0) \n",
    "        glTexCoord2i(1, 0); glVertex2i(width, 0) \n",
    "        glTexCoord2i(1, 1); glVertex2i(width, height) \n",
    "        glTexCoord2i(0, 1); glVertex2i(0, height) \n",
    "        glEnd()\n",
    "\n",
    "        glPopMatrix()\n",
    "\n",
    "        glMatrixMode(GL_PROJECTION)\n",
    "        glPopMatrix()\n",
    "\n",
    "        glMatrixMode(GL_MODELVIEW)\n",
    "        glDepthMask(GL_TRUE)\n",
    "        glDisable(GL_TEXTURE_2D)\n",
    "\n",
    "        \n",
    "        # ====================================================== #\n",
    "        # Previously defined functions to get target on scene    #\n",
    "        # ====================================================== #\n",
    "        \n",
    "        bin_img = binarize_frame(frame) # binarize frame\n",
    "        total_contours = get_contours(bin_img, contour_threshold_perct=0.01) # list of possible target contours\n",
    "        \n",
    "        # Plotting for debug\n",
    "        #cv2.drawContours(frame, total_contours, -1, (255, 255, 0), 4)\n",
    "        #cv2.imshow('debug contours', frame)\n",
    "\n",
    "\n",
    "        lst_detected_contours = get_detected_images(total_contours, bin_img) # detected contours\n",
    "        selected_images = select_detected_images(lst_detected_contours, targets_list, threshold=0.45) # selected targets on image\n",
    "\n",
    "        \n",
    "        if(len(selected_images) > 0):\n",
    "            for i, item in enumerate(selected_images):\n",
    "                imagePoints = change_img_pts_to_obj_orientation(item['pts_img'])\n",
    "                angle = item['angle']\n",
    "                object3D(imagePoints, angle, cameraMatrix, distCoeffs, obj)\n",
    "                glutSwapBuffers()\n",
    "                \n",
    "                # Uncomment for saving images and then make video\n",
    "                '''\n",
    "                now = datetime.now()\n",
    "\n",
    "                timestamp = datetime.timestamp(now)\n",
    "                \n",
    "                data = glReadPixels(0, 0, 1920, 1080, GL_RGBA, GL_UNSIGNED_BYTE)\n",
    "                image = Image.frombytes(\"RGBA\", (1920, 1080), data)\n",
    "                image = image.rotate(180)\n",
    "                image.save(f\"img/pic_{timestamp}.png\")\n",
    "                '''\n",
    "        \n",
    "    else:\n",
    "        glutDestroyWindow(window)"
   ]
  },
  {
   "cell_type": "code",
   "execution_count": 26,
   "metadata": {
    "id": "XtxfQHHaEOJA"
   },
   "outputs": [],
   "source": [
    "def initOpenGL(cameraMatrix, dimensions):\n",
    "    \n",
    "    (width_dim, height_dim) = dimensions\n",
    "\n",
    "    glClearColor(0.0, 0.0, 0.0, 0.0)\n",
    "    glClearDepth(1.0)\n",
    "    glDepthFunc(GL_LESS)\n",
    "    glEnable(GL_DEPTH_TEST)\n",
    "    glShadeModel(GL_SMOOTH)\n",
    "\n",
    "    lightAmbient = [1.0, 1.0, 1.0, 1.0]\n",
    "    lightDiffuse = [1.0, 1.0, 1.0, 1.0]\n",
    "    lightPosition = [1.0, 1.0, 1.0, 0.0]\n",
    "\n",
    "    glLightfv(GL_LIGHT0, GL_AMBIENT, lightAmbient)\n",
    "    glLightfv(GL_LIGHT0, GL_DIFFUSE, lightDiffuse)\n",
    "    glLightfv(GL_LIGHT0, GL_POSITION, lightPosition)\n",
    "    glEnable(GL_LIGHT0)\n",
    "    glEnable(GL_LIGHTING)\n",
    "\n",
    "    glMatrixMode(GL_PROJECTION)\n",
    "    glLoadIdentity()\n",
    "\n",
    "    fx = cameraMatrix[0,0]\n",
    "    fy = cameraMatrix[1,1]\n",
    "    fovy = 2*np.arctan(0.5*height_dim/fy)*180/np.pi\n",
    "    aspect = (width_dim*fy)/(height_dim*fx)\n",
    "    \n",
    "    near = 0.01 \n",
    "    far = 250.0\n",
    "    gluPerspective(fovy, aspect, near, far)\n",
    "\n",
    "\n",
    "    glMatrixMode(GL_MODELVIEW)\n",
    "    obj = OBJ(\"Pikachu.obj\", swapyz=True)\n",
    "\n",
    "    \n",
    "    glEnable(GL_TEXTURE_2D)\n",
    "    background_id = glGenTextures(1)\n",
    "    \n",
    "    return obj, background_id"
   ]
  },
  {
   "cell_type": "code",
   "execution_count": null,
   "metadata": {
    "id": "8wrfU95hEOJJ",
    "outputId": "cdd6dcfb-48dc-4613-b2e3-e64a1644ad64"
   },
   "outputs": [
    {
     "name": "stderr",
     "output_type": "stream",
     "text": [
      "Unable to load numpy_formathandler accelerator from OpenGL_accelerate\n"
     ]
    }
   ],
   "source": [
    "if __name__ == '__main__':\n",
    "\n",
    "\n",
    "    cameraMatrix = np.array([[1194.30008, 0, 959.5],\n",
    "                             [0, 1193.33981, 539.5],\n",
    "                             [0, 0, 1]])\n",
    "\n",
    "    \n",
    "    distCoeffs = np.array([0., 0., 0., 0., 0.])\n",
    "    \n",
    "    dimensions = (1920, 1080 )\n",
    "    cap = cv2.VideoCapture(VIDEO_INPUT)\n",
    "\n",
    "    if (cap.isOpened() == False):\n",
    "        print(\"Error opening video stream or file\")\n",
    "\n",
    "    glutInit()\n",
    "    glutInitDisplayMode(GLUT_RGBA | GLUT_DOUBLE)\n",
    "    glutSetOption(GLUT_ACTION_ON_WINDOW_CLOSE, GLUT_ACTION_CONTINUE_EXECUTION)\n",
    "\n",
    "    glutInitWindowSize(*dimensions)\n",
    "    window = glutCreateWindow(b'Realidade Aumentada')\n",
    "\n",
    "    obj, background_id = initOpenGL(cameraMatrix, dimensions)\n",
    "\n",
    "    glutDisplayFunc(displayCallback)\n",
    "    glutIdleFunc(idleCallback)\n",
    "\n",
    "    glutMainLoop()\n",
    "\n",
    "    cap.release()\n"
   ]
  },
  {
   "cell_type": "code",
   "execution_count": null,
   "metadata": {},
   "outputs": [],
   "source": [
    "\n",
    "#uncomment for creating output video \n",
    "\n",
    "'''\n",
    "import cv2\n",
    "import numpy as np\n",
    "import glob\n",
    "\n",
    "img_array = []\n",
    "for filename in glob.glob('img/*.png'):\n",
    "    img = cv2.imread(filename)\n",
    "    height, width, layers = img.shape\n",
    "    size = (width,height)\n",
    "    img_array.append(img)\n",
    "\n",
    "\n",
    "out = cv2.VideoWriter('project.avi',cv2.VideoWriter_fourcc(*'DIVX'), 15, size)\n",
    " \n",
    "for i in range(len(img_array)):\n",
    "    out.write(img_array[i])\n",
    "out.release()\n",
    "'''\n"
   ]
  },
  {
   "cell_type": "code",
   "execution_count": null,
   "metadata": {},
   "outputs": [],
   "source": []
  }
 ],
 "metadata": {
  "colab": {
   "name": "TP2_Hernane_Araceli_Pokemon_GO.ipynb",
   "provenance": []
  },
  "kernelspec": {
   "display_name": "Python 3",
   "language": "python",
   "name": "python3"
  },
  "language_info": {
   "codemirror_mode": {
    "name": "ipython",
    "version": 3
   },
   "file_extension": ".py",
   "mimetype": "text/x-python",
   "name": "python",
   "nbconvert_exporter": "python",
   "pygments_lexer": "ipython3",
   "version": "3.7.7"
  },
  "latex_envs": {
   "LaTeX_envs_menu_present": true,
   "autoclose": false,
   "autocomplete": true,
   "bibliofile": "biblio.bib",
   "cite_by": "apalike",
   "current_citInitial": 1,
   "eqLabelWithNumbers": true,
   "eqNumInitial": 1,
   "hotkeys": {
    "equation": "Ctrl-E",
    "itemize": "Ctrl-I"
   },
   "labels_anchors": false,
   "latex_user_defs": false,
   "report_style_numbering": false,
   "user_envs_cfg": false
  },
  "toc": {
   "base_numbering": 1,
   "nav_menu": {},
   "number_sections": true,
   "sideBar": true,
   "skip_h1_title": true,
   "title_cell": "Table of Contents",
   "title_sidebar": "Navegation",
   "toc_cell": true,
   "toc_position": {
    "height": "calc(100% - 180px)",
    "left": "10px",
    "top": "150px",
    "width": "369.006px"
   },
   "toc_section_display": true,
   "toc_window_display": false
  }
 },
 "nbformat": 4,
 "nbformat_minor": 1
}
